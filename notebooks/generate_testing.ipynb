{
 "cells": [
  {
   "cell_type": "code",
   "execution_count": null,
   "metadata": {},
   "outputs": [],
   "source": [
    "import os\n",
    "\n",
    "import pandas as pd\n",
    "import pyrootutils\n",
    "\n",
    "from formal_gym import grammar as fg_grammar"
   ]
  },
  {
   "cell_type": "code",
   "execution_count": null,
   "metadata": {},
   "outputs": [],
   "source": [
    "PROJECT_ROOT = pyrootutils.find_root(\n",
    "    search_from=os.path.abspath(\"\"), indicator=\".project-root\"\n",
    ")\n",
    "\n",
    "\n",
    "grammar_path = (\n",
    "    PROJECT_ROOT\n",
    "    / \"data\"\n",
    "    / \"grammars\"\n",
    "    / \"grammar_20250218124108\"\n",
    "    / \"grammar_20250218124108.cfg\"\n",
    ")"
   ]
  },
  {
   "cell_type": "code",
   "execution_count": null,
   "metadata": {},
   "outputs": [],
   "source": [
    "grammar = fg_grammar.ContextFreeGrammar.from_file(grammar_path)\n",
    "\n",
    "print(grammar.as_pcfg)"
   ]
  },
  {
   "cell_type": "code",
   "execution_count": null,
   "metadata": {},
   "outputs": [],
   "source": [
    "print(grammar.n_terminals, \" symbols\")\n",
    "\n",
    "print(grammar.n_terminals**2, \" strings of len 2\")"
   ]
  },
  {
   "cell_type": "markdown",
   "metadata": {
    "vscode": {
     "languageId": "raw"
    }
   },
   "source": [
    "Positive:\n",
    "t8 t4\n",
    "t2 t4\n",
    "\n",
    "Negative:\n",
    "t8 t1\n",
    "t6 t1\n",
    "t4 t4\n",
    "t4 t8\n",
    "t6 t4\n",
    "t1 t8\n",
    "t6 t5\n",
    "t4 t2\n",
    "t1 t2\n",
    "t5 t1\n",
    "\n",
    "Missing:\n",
    "t1 t5  -> Neg\n",
    "t1 t6  -> Neg\n",
    "t1 t1  -> Neg\n",
    "t1 t4  -> Neg\n",
    "t2 t1  -> Neg\n",
    "t2 t5  -> Neg\n",
    "t2 t6  -> Neg"
   ]
  },
  {
   "cell_type": "code",
   "execution_count": null,
   "metadata": {},
   "outputs": [],
   "source": [
    "grammar.test_sample(\"t2 t6\")"
   ]
  },
  {
   "cell_type": "code",
   "execution_count": null,
   "metadata": {},
   "outputs": [],
   "source": []
  }
 ],
 "metadata": {
  "kernelspec": {
   "display_name": ".venv",
   "language": "python",
   "name": "python3"
  },
  "language_info": {
   "codemirror_mode": {
    "name": "ipython",
    "version": 3
   },
   "file_extension": ".py",
   "mimetype": "text/x-python",
   "name": "python",
   "nbconvert_exporter": "python",
   "pygments_lexer": "ipython3",
   "version": "3.12.10"
  }
 },
 "nbformat": 4,
 "nbformat_minor": 2
}
