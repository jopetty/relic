{
 "cells": [
  {
   "cell_type": "code",
   "execution_count": null,
   "id": "0",
   "metadata": {},
   "outputs": [],
   "source": [
    "import json\n",
    "import os\n",
    "import re\n",
    "\n",
    "import dotenv\n",
    "import matplotlib.pyplot as plt\n",
    "import openai\n",
    "import pandas as pd\n",
    "import pyrootutils\n",
    "import seaborn as sns"
   ]
  },
  {
   "cell_type": "code",
   "execution_count": null,
   "id": "1",
   "metadata": {},
   "outputs": [],
   "source": [
    "PROJECT_ROOT = pyrootutils.find_root(\n",
    "    search_from=os.path.abspath(\"\"), indicator=\".project-root\"\n",
    ")\n",
    "GRAMMARS_PATH = PROJECT_ROOT / \"data\" / \"scfg_grammars\"\n",
    "\n",
    "results_files = list(GRAMMARS_PATH.rglob(\"batch_*.jsonl\"))\n",
    "inputs_files = list(GRAMMARS_PATH.rglob(\"scfg_*.jsonl\"))\n",
    "\n",
    "dotenv.load_dotenv(PROJECT_ROOT / \".env\")"
   ]
  },
  {
   "cell_type": "code",
   "execution_count": null,
   "id": "2",
   "metadata": {},
   "outputs": [],
   "source": [
    "openai_client = openai.OpenAI()"
   ]
  },
  {
   "cell_type": "code",
   "execution_count": null,
   "id": "3",
   "metadata": {},
   "outputs": [],
   "source": [
    "res_dfs = []\n",
    "inputs_dfs = []\n",
    "\n",
    "for f in results_files:\n",
    "    df = pd.read_json(f, lines=True)\n",
    "    json_struct = json.loads(df.to_json(orient=\"records\"))\n",
    "    flat_df = pd.json_normalize(json_struct)\n",
    "\n",
    "    batch_id = f.name.split(\"_output.jsonl\")[0]\n",
    "\n",
    "    # extract response\n",
    "    flat_df[\"model_response\"] = flat_df[\"response.body.choices\"].apply(\n",
    "        lambda x: x[0][\"message\"][\"content\"]\n",
    "    )\n",
    "    flat_df[\"prompt_tokens\"] = flat_df[\"response.body.usage.prompt_tokens\"]\n",
    "    flat_df[\"completion_tokens\"] = flat_df[\"response.body.usage.completion_tokens\"]\n",
    "    flat_df[\"total_tokens\"] = flat_df[\"response.body.usage.total_tokens\"]\n",
    "    flat_df[\"model\"] = flat_df[\"response.body.model\"]\n",
    "    flat_df[\"batch_id\"] = batch_id\n",
    "\n",
    "    res_dfs.append(flat_df)\n",
    "res_df = pd.concat(res_dfs, ignore_index=True)\n",
    "batch_ids = res_df[\"batch_id\"].unique()\n",
    "\n",
    "for bid in batch_ids:\n",
    "    batch = openai_client.batches.retrieve(bid)\n",
    "    input_file = openai_client.files.retrieve(batch.input_file_id)\n",
    "    res_df.loc[res_df[\"batch_id\"] == bid, \"input_file\"] = input_file.filename\n",
    "\n",
    "    res_df[\"grammar_name\"] = res_df[\"input_file\"].apply(\n",
    "        lambda x: \"_\".join(str(x).split(\"_\")[0:2])\n",
    "    )\n",
    "\n",
    "inputs_dfs = []\n",
    "\n",
    "for f in inputs_files:\n",
    "    df = pd.read_json(f, lines=True)\n",
    "    json_struct = json.loads(df.to_json(orient=\"records\"))\n",
    "    flat_df = pd.json_normalize(json_struct)\n",
    "    flat_df[\"grammar_name\"] = flat_df[\"body.metadata.grammar_file\"]\n",
    "    flat_df[\"lhs\"] = flat_df[\"body.metadata.lhs\"]\n",
    "    flat_df[\"rhs\"] = flat_df[\"body.metadata.rhs\"]\n",
    "    inputs_dfs.append(flat_df)\n",
    "\n",
    "inputs_df = pd.concat(inputs_dfs, ignore_index=True)\n",
    "\n",
    "\n",
    "# join res_df and inputs_df on \"grammar_name\", \"request_id\"\n",
    "res_df = pd.merge(\n",
    "    res_df,\n",
    "    inputs_df,\n",
    "    on=[\"grammar_name\", \"custom_id\"],\n",
    ")"
   ]
  },
  {
   "cell_type": "code",
   "execution_count": null,
   "id": "4",
   "metadata": {},
   "outputs": [],
   "source": [
    "inputs_df.head()"
   ]
  },
  {
   "cell_type": "markdown",
   "id": "5",
   "metadata": {},
   "source": [
    "## Extract answer"
   ]
  },
  {
   "cell_type": "code",
   "execution_count": null,
   "id": "6",
   "metadata": {},
   "outputs": [],
   "source": [
    "answer_re = re.compile(r\"Final Answer: (.*?)(?:\\n|$)\", re.DOTALL)\n",
    "\n",
    "\n",
    "def extract_answer(model_response):\n",
    "    matches = answer_re.findall(model_response)\n",
    "    if matches:\n",
    "        last_match: str = matches[-1]\n",
    "        last_match = re.sub(r\"[^a-zA-Z\\s]\", \"\", last_match)\n",
    "        last_match = last_match.strip()\n",
    "        return last_match\n",
    "    else:\n",
    "        return None"
   ]
  },
  {
   "cell_type": "code",
   "execution_count": null,
   "id": "7",
   "metadata": {},
   "outputs": [],
   "source": [
    "res_df = res_df.drop_duplicates(subset=[\"custom_id\", \"batch_id\"])\n",
    "res_df[\"model_answer\"] = res_df[\"model_response\"].apply(extract_answer)\n",
    "res_df = res_df.dropna(subset=[\"model_answer\", \"rhs\"]).reset_index(drop=True)\n",
    "res_df[\"exact_match\"] = res_df[\"model_answer\"] == res_df[\"rhs\"]\n",
    "res_df[\"bow_match\"] = res_df.apply(\n",
    "    lambda row: sorted(row[\"rhs\"].split()) == sorted(row[\"model_answer\"].split()),\n",
    "    axis=1,\n",
    ")\n",
    "\n",
    "res_df[\"lhs_length\"] = res_df[\"lhs\"].apply(lambda x: len(x.split()))\n",
    "\n",
    "\n",
    "# melt exact_match and bow_match\n",
    "metrics_df = res_df.melt(\n",
    "    id_vars=[\"model\", \"lhs_length\", \"custom_id\"],\n",
    "    value_vars=[\"exact_match\", \"bow_match\"],\n",
    "    var_name=\"match_type\",\n",
    "    value_name=\"match_value\",\n",
    ")\n",
    "\n",
    "# rename `exact_match` and `bow_match` in match_type column\n",
    "metrics_df[\"match_type\"] = metrics_df[\"match_type\"].replace(\n",
    "    {\"exact_match\": \"Exact Match\", \"bow_match\": \"Bag of Words\"}\n",
    ")"
   ]
  },
  {
   "cell_type": "code",
   "execution_count": null,
   "id": "8",
   "metadata": {},
   "outputs": [],
   "source": [
    "res_df.groupby([\"model\", \"lhs_length\"])[\"custom_id\"].count()"
   ]
  },
  {
   "cell_type": "code",
   "execution_count": null,
   "id": "9",
   "metadata": {},
   "outputs": [],
   "source": [
    "res_df.groupby([\"model\", \"lhs_length\"])[[\"exact_match\", \"bow_match\"]].mean()"
   ]
  },
  {
   "cell_type": "code",
   "execution_count": null,
   "id": "10",
   "metadata": {},
   "outputs": [],
   "source": [
    "fig = plt.figure(figsize=(6, 2.5), layout=\"constrained\")\n",
    "gs = fig.add_gridspec(1, 3)\n",
    "\n",
    "ax0 = fig.add_subplot(gs[0, 0])\n",
    "ax1 = fig.add_subplot(gs[0, 1])\n",
    "ax2 = fig.add_subplot(gs[0, 2])\n",
    "\n",
    "axes = [ax0, ax1, ax2]\n",
    "\n",
    "\n",
    "for i, model in enumerate(metrics_df[\"model\"].unique()):\n",
    "    model_df = metrics_df[metrics_df[\"model\"] == model]\n",
    "    sns.lineplot(\n",
    "        data=model_df,\n",
    "        x=\"lhs_length\",\n",
    "        y=\"match_value\",\n",
    "        hue=\"match_type\",\n",
    "        ax=axes[i],\n",
    "        marker=\"o\",\n",
    "    )\n",
    "\n",
    "    axes[i].set_ylim(-0.05, 1.05)\n",
    "\n",
    "    model_name = model.split(\"-2\")[0]\n",
    "\n",
    "    # format y-axis ticks as percentages\n",
    "    axes[i].set_yticks([0, 0.25, 0.5, 0.75, 1.0])\n",
    "    axes[i].set_yticklabels([\"0%\", \"25%\", \"50%\", \"75%\", \"100%\"])\n",
    "    axes[i].set_title(model_name, fontsize=10)\n",
    "    axes[i].set_ylabel(\"Accuracy\")\n",
    "    axes[i].set_xlabel(\"Sentence Length\")\n",
    "\n",
    "    if i > 0:\n",
    "        axes[i].get_legend().remove()\n",
    "        axes[i].set_ylabel(None)\n",
    "        axes[i].set_yticks([])\n",
    "    else:\n",
    "        axes[i].legend(title=None, loc=\"upper left\", fontsize=9)"
   ]
  },
  {
   "cell_type": "code",
   "execution_count": null,
   "id": "11",
   "metadata": {},
   "outputs": [],
   "source": [
    "sns.lineplot(\n",
    "    data=res_df,\n",
    "    x=\"lhs_length\",\n",
    "    y=\"bow_match\",\n",
    "    hue=\"model\",\n",
    "    marker=\"o\",\n",
    "    ci=None,\n",
    "    palette=\"tab10\",\n",
    ")"
   ]
  },
  {
   "cell_type": "code",
   "execution_count": null,
   "id": "12",
   "metadata": {},
   "outputs": [],
   "source": []
  }
 ],
 "metadata": {
  "kernelspec": {
   "display_name": "formal-gym (3.12.11)",
   "language": "python",
   "name": "python3"
  },
  "language_info": {
   "codemirror_mode": {
    "name": "ipython",
    "version": 3
   },
   "file_extension": ".py",
   "mimetype": "text/x-python",
   "name": "python",
   "nbconvert_exporter": "python",
   "pygments_lexer": "ipython3",
   "version": "3.12.11"
  }
 },
 "nbformat": 4,
 "nbformat_minor": 5
}
