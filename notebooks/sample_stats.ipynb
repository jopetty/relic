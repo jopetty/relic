{
 "cells": [
  {
   "cell_type": "code",
   "execution_count": null,
   "metadata": {},
   "outputs": [],
   "source": [
    "import json\n",
    "import os\n",
    "\n",
    "import matplotlib.gridspec as gridspec\n",
    "import matplotlib.pyplot as plt\n",
    "import pandas as pd\n",
    "import pyrootutils\n",
    "import seaborn as sns"
   ]
  },
  {
   "cell_type": "code",
   "execution_count": null,
   "metadata": {},
   "outputs": [],
   "source": [
    "PROJECT_ROOT = pyrootutils.find_root(\n",
    "    search_from=os.path.abspath(\"\"), indicator=\".project-root\"\n",
    ")\n",
    "\n",
    "grammars_dir = PROJECT_ROOT / \"data\" / \"grammars\"\n",
    "grammar_stats_filename = \"grammar_stats.json\"\n",
    "samples_stats_filename = \"filtered_samples_stats.json\"\n",
    "\n",
    "grammars = [\n",
    "    f\n",
    "    for f in grammars_dir.iterdir()\n",
    "    if (f.is_dir())\n",
    "    and (f / grammar_stats_filename).exists()\n",
    "    and (f / samples_stats_filename).exists()\n",
    "]\n",
    "\n",
    "stats = []\n",
    "for g in grammars:\n",
    "    g_stats = json.load(open(g / grammar_stats_filename))\n",
    "    s_stats = json.load(open(g / samples_stats_filename))\n",
    "    merged = {**g_stats, **s_stats}\n",
    "    stats.append(merged)\n",
    "stats_df = pd.DataFrame(stats)\n",
    "\n",
    "# Filter grammars to only keep those with at least 90% coverage of positive & negative\n",
    "# samples to ensure we aren't testing models on languages which can't generate strings\n",
    "# of the relevant lengths.\n",
    "good_stats_df = (\n",
    "    stats_df[stats_df.coverage > 0.9]\n",
    "    .sort_values(by=\"grammar_name\", ascending=True)\n",
    "    .reset_index(drop=True)\n",
    ")\n",
    "\n",
    "good_stats_df"
   ]
  },
  {
   "cell_type": "code",
   "execution_count": null,
   "metadata": {},
   "outputs": [],
   "source": [
    "fig = plt.figure(figsize=(13, 3))\n",
    "gs = gridspec.GridSpec(1, 4)\n",
    "\n",
    "ax0 = fig.add_subplot(gs[0, 0])\n",
    "ax1 = fig.add_subplot(gs[0, 1], sharey=ax0)\n",
    "ax2 = fig.add_subplot(gs[0, 2], sharey=ax0)\n",
    "ax3 = fig.add_subplot(gs[0, 3], sharey=ax0)\n",
    "\n",
    "axes = [ax0, ax1, ax2, ax3]\n",
    "hparams = [\n",
    "    \"n_terminals\",\n",
    "    \"n_nonterminals\",\n",
    "    \"n_lexical_productions\",\n",
    "    \"n_nonlexical_productions\",\n",
    "]\n",
    "for ax, hparam in zip(axes, hparams):\n",
    "    sns.histplot(\n",
    "        data=good_stats_df,\n",
    "        x=hparam,\n",
    "        binwidth=100,\n",
    "        ax=ax,\n",
    "    )\n",
    "    ax.set_title(hparam)\n",
    "    ax.set_ylabel(None)"
   ]
  },
  {
   "cell_type": "code",
   "execution_count": null,
   "metadata": {},
   "outputs": [],
   "source": [
    "ax = sns.scatterplot(\n",
    "    data=good_stats_df,\n",
    "    x=\"compression_ratio\",\n",
    "    y=\"n_nonterminals\",\n",
    ")\n",
    "\n",
    "_ = ax.set_xlabel(\"Compression Ratio\")\n",
    "_ = ax.set_ylabel(\"# of Nonterminals\")"
   ]
  },
  {
   "cell_type": "code",
   "execution_count": null,
   "metadata": {},
   "outputs": [],
   "source": [
    "ax = sns.scatterplot(\n",
    "    data=good_stats_df,\n",
    "    x=\"compression_ratio\",\n",
    "    y=\"n_terminals\",\n",
    ")\n",
    "\n",
    "_ = ax.set_xlabel(\"Compression Ratio\")\n",
    "_ = ax.set_ylabel(\"# of Terminals\")"
   ]
  },
  {
   "cell_type": "code",
   "execution_count": null,
   "metadata": {},
   "outputs": [],
   "source": []
  }
 ],
 "metadata": {
  "kernelspec": {
   "display_name": ".venv",
   "language": "python",
   "name": "python3"
  },
  "language_info": {
   "codemirror_mode": {
    "name": "ipython",
    "version": 3
   },
   "file_extension": ".py",
   "mimetype": "text/x-python",
   "name": "python",
   "nbconvert_exporter": "python",
   "pygments_lexer": "ipython3",
   "version": "3.12.8"
  }
 },
 "nbformat": 4,
 "nbformat_minor": 2
}
