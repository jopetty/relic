{
 "cells": [
  {
   "cell_type": "code",
   "execution_count": null,
   "metadata": {},
   "outputs": [],
   "source": [
    "import os\n",
    "\n",
    "import pandas as pd\n",
    "import pyrootutils\n",
    "\n",
    "import formal_gym.grammar as fg_grammar"
   ]
  },
  {
   "cell_type": "code",
   "execution_count": null,
   "metadata": {},
   "outputs": [],
   "source": [
    "PROJECT_ROOT = pyrootutils.find_root(\n",
    "    search_from=os.path.abspath(\"\"), indicator=\".project-root\"\n",
    ")\n",
    "\n",
    "SAMPLES_PATH = PROJECT_ROOT / \"data\" / \"samples\"\n",
    "SAMPLES_FILENAME = \"samples-100_maxlen-50.csv\"\n",
    "\n",
    "\n",
    "def get_csv_file_path(grammar: str):\n",
    "    return SAMPLES_PATH / grammar / SAMPLES_FILENAME\n",
    "\n",
    "\n",
    "def get_strings_file_path(grammar: str):\n",
    "    return SAMPLES_PATH / grammar / \"strings.txt\"\n",
    "\n",
    "\n",
    "def get_compressed_strings_file_path(grammar: str):\n",
    "    return SAMPLES_PATH / grammar / \"strings.txt.gz\""
   ]
  },
  {
   "cell_type": "code",
   "execution_count": null,
   "metadata": {},
   "outputs": [],
   "source": [
    "grammars = [\n",
    "    \"sample_trim_20241022141559\",\n",
    "    \"sample_trim_20250115102355\",\n",
    "    \"sample_trim_20250115225054\",\n",
    "    \"sample_trim_20250116110034\",\n",
    "]"
   ]
  },
  {
   "cell_type": "code",
   "execution_count": null,
   "metadata": {},
   "outputs": [],
   "source": [
    "for g in grammars:\n",
    "    g_csv_file = get_csv_file_path(g)\n",
    "    g_strings_file = get_strings_file_path(g)\n",
    "    df = pd.read_csv(g_csv_file)\n",
    "\n",
    "    df[\"sample\"].to_csv(g_strings_file, index=False, header=False)"
   ]
  },
  {
   "cell_type": "code",
   "execution_count": null,
   "metadata": {},
   "outputs": [],
   "source": [
    "sizes = []\n",
    "\n",
    "for g in grammars:\n",
    "    g_strings_file = get_strings_file_path(g)\n",
    "    get_compressed_strings_file = get_compressed_strings_file_path(g)\n",
    "\n",
    "    string_size = os.path.getsize(g_strings_file)\n",
    "    compressed_string_size = os.path.getsize(get_compressed_strings_file)\n",
    "    sizes.append(\n",
    "        {\n",
    "            \"grammar_file\": g,\n",
    "            \"string_size\": string_size,\n",
    "            \"compressed_string_size\": compressed_string_size,\n",
    "        }\n",
    "    )\n",
    "\n",
    "size_df = pd.DataFrame(sizes)\n",
    "size_df[\"compression_ratio\"] = (\n",
    "    size_df[\"string_size\"] / size_df[\"compressed_string_size\"]\n",
    ")"
   ]
  },
  {
   "cell_type": "code",
   "execution_count": null,
   "metadata": {},
   "outputs": [],
   "source": [
    "size_df"
   ]
  },
  {
   "cell_type": "code",
   "execution_count": null,
   "metadata": {},
   "outputs": [],
   "source": [
    "def get_grammar_object(grammar: str):\n",
    "    if grammar == \"sample_trim_20241022141559\":\n",
    "        g_path = PROJECT_ROOT / \"data\" / f\"{grammar}.cfg\"\n",
    "    else:\n",
    "        g_path = PROJECT_ROOT / \"data\" / \"grammars\" / f\"{grammar}.cfg\"\n",
    "\n",
    "    return fg_grammar.Grammar.from_grammar(g_path)"
   ]
  },
  {
   "cell_type": "code",
   "execution_count": null,
   "metadata": {},
   "outputs": [],
   "source": [
    "get_grammar_object(\"sample_trim_20241022141559\")"
   ]
  },
  {
   "cell_type": "code",
   "execution_count": null,
   "metadata": {},
   "outputs": [],
   "source": [
    "data / sample_trim_20241022141559.cfg"
   ]
  }
 ],
 "metadata": {
  "kernelspec": {
   "display_name": ".venv",
   "language": "python",
   "name": "python3"
  },
  "language_info": {
   "codemirror_mode": {
    "name": "ipython",
    "version": 3
   },
   "file_extension": ".py",
   "mimetype": "text/x-python",
   "name": "python",
   "nbconvert_exporter": "python",
   "pygments_lexer": "ipython3",
   "version": "3.12.8"
  }
 },
 "nbformat": 4,
 "nbformat_minor": 2
}
