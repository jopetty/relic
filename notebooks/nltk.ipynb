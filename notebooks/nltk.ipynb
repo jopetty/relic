{
 "cells": [
  {
   "cell_type": "code",
   "execution_count": null,
   "metadata": {},
   "outputs": [],
   "source": [
    "import os\n",
    "\n",
    "import pandas as pd\n",
    "import pyrootutils\n",
    "import seaborn as sns\n",
    "\n",
    "from formal_gym import grammar as fg_grammar"
   ]
  },
  {
   "cell_type": "code",
   "execution_count": null,
   "metadata": {},
   "outputs": [],
   "source": [
    "PROJECT_ROOT = pyrootutils.find_root(\n",
    "    search_from=os.path.abspath(\"\"), indicator=\".project-root\"\n",
    ")\n",
    "\n",
    "grammar_path = PROJECT_ROOT / \"data\" / \"sample_trim_20241022141559.cfg\"\n",
    "# grammar_path = PROJECT_ROOT / \"data\" / \"sample_raw_20241022141532.cfg\"\n",
    "# grammar_path = PROJECT_ROOT / \"data\" / \"sample_raw_20241022141532_fixed.cfg\""
   ]
  },
  {
   "cell_type": "code",
   "execution_count": null,
   "metadata": {},
   "outputs": [],
   "source": [
    "grammar = fg_grammar.ContextFreeGrammar.from_file(grammar_path)\n",
    "\n",
    "print(grammar.as_pcfg)"
   ]
  },
  {
   "cell_type": "code",
   "execution_count": null,
   "metadata": {},
   "outputs": [],
   "source": [
    "NUM_SAMPLES = 500_000\n",
    "\n",
    "records = [\n",
    "    {\"step\": i, \"num_samples\": i, \"case\": \"expected\"} for i in range(NUM_SAMPLES)\n",
    "]\n",
    "samples = set()\n",
    "\n",
    "for i in range(NUM_SAMPLES):\n",
    "    sample = grammar.generate(max_depth=1000, sep=\" \")\n",
    "    samples.add(sample)\n",
    "    records.append({\"step\": i, \"num_samples\": len(samples), \"case\": \"measured\"})\n",
    "\n",
    "df = pd.DataFrame.from_records(records)\n",
    "sns.lineplot(data=df, x=\"step\", y=\"num_samples\", hue=\"case\", style=\"case\")"
   ]
  },
  {
   "cell_type": "code",
   "execution_count": null,
   "metadata": {},
   "outputs": [],
   "source": [
    "sample_lens = [{\"length\": len(sample.split())} for sample in samples]\n",
    "sl_df = pd.DataFrame.from_records(sample_lens)\n",
    "ax = sns.histplot(data=sl_df, x=\"length\")\n",
    "\n",
    "ax.set_xscale(\"log\")"
   ]
  },
  {
   "cell_type": "code",
   "execution_count": null,
   "metadata": {},
   "outputs": [],
   "source": [
    "samples_path = (\n",
    "    PROJECT_ROOT / \"data\" / \"samples\" / \"sample_trim_20241022141559\" / \"positive.txt\"\n",
    ")\n",
    "\n",
    "samples = []\n",
    "\n",
    "with open(samples_path, \"r\") as f:\n",
    "    for line in f:\n",
    "        samples.append({\"sample\": line.strip(), \"length\": len(line.strip().split())})"
   ]
  },
  {
   "cell_type": "code",
   "execution_count": null,
   "metadata": {},
   "outputs": [],
   "source": [
    "print(samples)"
   ]
  },
  {
   "cell_type": "code",
   "execution_count": null,
   "metadata": {},
   "outputs": [],
   "source": [
    "print(samples_path)"
   ]
  },
  {
   "cell_type": "code",
   "execution_count": null,
   "metadata": {},
   "outputs": [],
   "source": []
  }
 ],
 "metadata": {
  "kernelspec": {
   "display_name": ".venv",
   "language": "python",
   "name": "python3"
  },
  "language_info": {
   "codemirror_mode": {
    "name": "ipython",
    "version": 3
   },
   "file_extension": ".py",
   "mimetype": "text/x-python",
   "name": "python",
   "nbconvert_exporter": "python",
   "pygments_lexer": "ipython3",
   "version": "3.12.5"
  }
 },
 "nbformat": 4,
 "nbformat_minor": 2
}
