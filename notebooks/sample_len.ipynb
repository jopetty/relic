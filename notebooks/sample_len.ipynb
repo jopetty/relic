{
 "cells": [
  {
   "cell_type": "code",
   "execution_count": null,
   "metadata": {},
   "outputs": [],
   "source": [
    "import os\n",
    "import pathlib\n",
    "\n",
    "import matplotlib.pyplot as plt\n",
    "import pandas as pd\n",
    "import pyrootutils\n",
    "import seaborn as sns"
   ]
  },
  {
   "cell_type": "code",
   "execution_count": null,
   "metadata": {},
   "outputs": [],
   "source": [
    "PROJECT_ROOT = pyrootutils.find_root(\n",
    "    search_from=os.path.abspath(\"\"), indicator=\".project-root\"\n",
    ")"
   ]
  },
  {
   "cell_type": "code",
   "execution_count": null,
   "metadata": {},
   "outputs": [],
   "source": [
    "GRAMMAR_NAME: str = \"sample_trim_20250115102355\"\n",
    "\n",
    "samples_dir = PROJECT_ROOT / \"data\" / \"samples\" / GRAMMAR_NAME"
   ]
  },
  {
   "cell_type": "code",
   "execution_count": null,
   "metadata": {},
   "outputs": [],
   "source": [
    "samples = []\n",
    "\n",
    "# check if positive.txt and negative.txt exist; if so, open them and read the samples as {sample: line, label: {positive, negative}}\n",
    "\n",
    "if (samples_dir / \"positive.txt\").exists():\n",
    "    with open(samples_dir / \"positive.txt\", \"r\") as f:\n",
    "        samples.extend(\n",
    "            [\n",
    "                {\n",
    "                    \"sample\": line.strip(),\n",
    "                    \"sample.type.ground_truth\": \"positive\",\n",
    "                    \"sample.length\": len(line.strip().split(\" \")),\n",
    "                }\n",
    "                for line in f.readlines()\n",
    "            ]\n",
    "        )\n",
    "\n",
    "if (samples_dir / \"negative.txt\").exists():\n",
    "    with open(samples_dir / \"negative.txt\", \"r\") as f:\n",
    "        samples.extend(\n",
    "            [\n",
    "                {\n",
    "                    \"sample\": line.strip(),\n",
    "                    \"sample.type.ground_truth\": \"negative\",\n",
    "                    \"sample.length\": len(line.strip().split(\" \")),\n",
    "                }\n",
    "                for line in f.readlines()\n",
    "            ]\n",
    "        )\n",
    "\n",
    "sample_df = pd.DataFrame(samples)\n",
    "\n",
    "sample_df.head()"
   ]
  },
  {
   "cell_type": "code",
   "execution_count": null,
   "metadata": {},
   "outputs": [],
   "source": [
    "fig = plt.figure(figsize=(6, 3))\n",
    "\n",
    "ax = fig.add_subplot(111)\n",
    "\n",
    "sns.histplot(\n",
    "    data=sample_df,\n",
    "    x=\"sample.length\",\n",
    "    ax=ax,\n",
    "    bins=25,\n",
    "    hue=\"sample.type.ground_truth\",\n",
    "    palette={\"positive\": \"orange\", \"negative\": \"purple\"},\n",
    ")\n",
    "\n",
    "ax.get_legend().set_title(\"Sample type\")\n",
    "\n",
    "ax.set_yscale(\"log\")\n",
    "ax.set_xlabel(\"Sample length\")"
   ]
  }
 ],
 "metadata": {
  "kernelspec": {
   "display_name": ".venv",
   "language": "python",
   "name": "python3"
  },
  "language_info": {
   "codemirror_mode": {
    "name": "ipython",
    "version": 3
   },
   "file_extension": ".py",
   "mimetype": "text/x-python",
   "name": "python",
   "nbconvert_exporter": "python",
   "pygments_lexer": "ipython3",
   "version": "3.12.8"
  }
 },
 "nbformat": 4,
 "nbformat_minor": 2
}
