{
 "cells": [
  {
   "cell_type": "markdown",
   "id": "0",
   "metadata": {},
   "source": [
    "# Ngrams & Dependency Analysis"
   ]
  },
  {
   "cell_type": "code",
   "execution_count": null,
   "id": "1",
   "metadata": {},
   "outputs": [],
   "source": [
    "import json\n",
    "import os\n",
    "\n",
    "import matplotlib.gridspec as gridspec\n",
    "import matplotlib.pyplot as plt\n",
    "import pandas as pd\n",
    "import pyrootutils\n",
    "import seaborn as sns\n",
    "\n",
    "from formal_gym import grammar as fg_grammar"
   ]
  },
  {
   "cell_type": "code",
   "execution_count": null,
   "id": "2",
   "metadata": {},
   "outputs": [],
   "source": [
    "PROJECT_ROOT = pyrootutils.find_root(\n",
    "    search_from=os.path.abspath(\"\"), indicator=\".project-root\"\n",
    ")\n",
    "\n",
    "grammars_dir = PROJECT_ROOT / \"data\" / \"grammars\"\n",
    "grammar_stats_filename = \"grammar_stats.json\"\n",
    "samples_stats_filename = \"filtered_samples_stats.json\"\n",
    "\n",
    "grammar_dirs = [\n",
    "    f\n",
    "    for f in grammars_dir.iterdir()\n",
    "    if (f.is_dir())\n",
    "    and (f / grammar_stats_filename).exists()\n",
    "    and (f / samples_stats_filename).exists()\n",
    "]\n",
    "\n",
    "grammar_stats = []\n",
    "for g in grammar_dirs:\n",
    "    g_stats = json.load(open(g / grammar_stats_filename))\n",
    "    s_stats = json.load(open(g / samples_stats_filename))\n",
    "    merged = {**g_stats, **s_stats}\n",
    "    grammar_stats.append(merged)\n",
    "grammar_stats_df = pd.DataFrame(grammar_stats)\n",
    "\n",
    "grammar_stats_df = (\n",
    "    grammar_stats_df[\n",
    "        (grammar_stats_df.coverage > 0.98)\n",
    "        & (grammar_stats_df.n_terminals <= 100)\n",
    "        & (grammar_stats_df.n_nonterminals <= 100)\n",
    "        & (grammar_stats_df.n_lexical_productions <= 100)\n",
    "        & (grammar_stats_df.n_nonlexical_productions <= 100)\n",
    "    ]\n",
    "    .drop([\"median_positive_parses\", \"mean_positive_parses\"], axis=1)\n",
    "    .sort_values(by=\"grammar_name\", ascending=True)\n",
    "    .reset_index(drop=True)\n",
    ")\n",
    "\n",
    "# grammar_stats_df[\"grammar\"] = grammar_stats_df[\"grammar_name\"].apply(\n",
    "#     lambda x: fg_grammar.Grammar.from_file(grammars_dir / x / f\"{x}.cfg\")\n",
    "# )\n",
    "\n",
    "grammar_stats_df"
   ]
  }
 ],
 "metadata": {
  "kernelspec": {
   "display_name": ".venv",
   "language": "python",
   "name": "python3"
  },
  "language_info": {
   "codemirror_mode": {
    "name": "ipython",
    "version": 3
   },
   "file_extension": ".py",
   "mimetype": "text/x-python",
   "name": "python",
   "nbconvert_exporter": "python",
   "pygments_lexer": "ipython3",
   "version": "3.12.8"
  }
 },
 "nbformat": 4,
 "nbformat_minor": 5
}
